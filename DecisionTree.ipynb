{
 "cells": [
  {
   "cell_type": "markdown",
   "metadata": {},
   "source": [
    "# Decision Trees for classification"
   ]
  },
  {
   "cell_type": "code",
   "execution_count": 25,
   "metadata": {},
   "outputs": [],
   "source": [
    "from sklearn import tree\n",
    "from sklearn.datasets import load_iris\n",
    "X = [[0, 0], [1, 1]]\n",
    "Y = [0, 1]\n",
    "clf = tree.DecisionTreeClassifier()\n",
    "clf = clf.fit(X, Y)"
   ]
  },
  {
   "cell_type": "code",
   "execution_count": 26,
   "metadata": {},
   "outputs": [
    {
     "data": {
      "text/plain": [
       "array([1])"
      ]
     },
     "execution_count": 26,
     "metadata": {},
     "output_type": "execute_result"
    }
   ],
   "source": [
    "clf.predict([[1,1]])"
   ]
  },
  {
   "cell_type": "code",
   "execution_count": 27,
   "metadata": {},
   "outputs": [
    {
     "data": {
      "text/plain": [
       "array([[0., 1.]])"
      ]
     },
     "execution_count": 27,
     "metadata": {},
     "output_type": "execute_result"
    }
   ],
   "source": [
    "clf.predict_proba([[2., 2.]])"
   ]
  },
  {
   "cell_type": "code",
   "execution_count": 28,
   "metadata": {},
   "outputs": [],
   "source": [
    "X, y = load_iris(return_X_y=True)\n",
    "clf = tree.DecisionTreeClassifier()\n",
    "clf = clf.fit(X, y)"
   ]
  },
  {
   "cell_type": "code",
   "execution_count": 29,
   "metadata": {},
   "outputs": [
    {
     "data": {
      "text/plain": [
       "[Text(167.4, 199.32, 'X[2] <= 2.45\\ngini = 0.667\\nsamples = 150\\nvalue = [50, 50, 50]'),\n",
       " Text(141.64615384615385, 163.07999999999998, 'gini = 0.0\\nsamples = 50\\nvalue = [50, 0, 0]'),\n",
       " Text(193.15384615384616, 163.07999999999998, 'X[3] <= 1.75\\ngini = 0.5\\nsamples = 100\\nvalue = [0, 50, 50]'),\n",
       " Text(103.01538461538462, 126.83999999999999, 'X[2] <= 4.95\\ngini = 0.168\\nsamples = 54\\nvalue = [0, 49, 5]'),\n",
       " Text(51.50769230769231, 90.6, 'X[3] <= 1.65\\ngini = 0.041\\nsamples = 48\\nvalue = [0, 47, 1]'),\n",
       " Text(25.753846153846155, 54.359999999999985, 'gini = 0.0\\nsamples = 47\\nvalue = [0, 47, 0]'),\n",
       " Text(77.26153846153846, 54.359999999999985, 'gini = 0.0\\nsamples = 1\\nvalue = [0, 0, 1]'),\n",
       " Text(154.52307692307693, 90.6, 'X[3] <= 1.55\\ngini = 0.444\\nsamples = 6\\nvalue = [0, 2, 4]'),\n",
       " Text(128.76923076923077, 54.359999999999985, 'gini = 0.0\\nsamples = 3\\nvalue = [0, 0, 3]'),\n",
       " Text(180.27692307692308, 54.359999999999985, 'X[0] <= 6.95\\ngini = 0.444\\nsamples = 3\\nvalue = [0, 2, 1]'),\n",
       " Text(154.52307692307693, 18.119999999999976, 'gini = 0.0\\nsamples = 2\\nvalue = [0, 2, 0]'),\n",
       " Text(206.03076923076924, 18.119999999999976, 'gini = 0.0\\nsamples = 1\\nvalue = [0, 0, 1]'),\n",
       " Text(283.2923076923077, 126.83999999999999, 'X[2] <= 4.85\\ngini = 0.043\\nsamples = 46\\nvalue = [0, 1, 45]'),\n",
       " Text(257.53846153846155, 90.6, 'X[1] <= 3.1\\ngini = 0.444\\nsamples = 3\\nvalue = [0, 1, 2]'),\n",
       " Text(231.7846153846154, 54.359999999999985, 'gini = 0.0\\nsamples = 2\\nvalue = [0, 0, 2]'),\n",
       " Text(283.2923076923077, 54.359999999999985, 'gini = 0.0\\nsamples = 1\\nvalue = [0, 1, 0]'),\n",
       " Text(309.04615384615386, 90.6, 'gini = 0.0\\nsamples = 43\\nvalue = [0, 0, 43]')]"
      ]
     },
     "execution_count": 29,
     "metadata": {},
     "output_type": "execute_result"
    },
    {
     "data": {
      "image/png": "[encoded data removed]",
      "text/plain": [
       "<Figure size 432x288 with 1 Axes>"
      ]
     },
     "metadata": {
      "needs_background": "light"
     },
     "output_type": "display_data"
    }
   ],
   "source": [
    "tree.plot_tree(clf)"
   ]
  },
  {
   "cell_type": "code",
   "execution_count": 34,
   "metadata": {},
   "outputs": [],
   "source": [
    "import graphviz "
   ]
  },
  {
   "cell_type": "code",
   "execution_count": 31,
   "metadata": {},
   "outputs": [
    {
     "data": {
      "text/plain": [
       "'iris.pdf'"
      ]
     },
     "execution_count": 31,
     "metadata": {},
     "output_type": "execute_result"
    }
   ],
   "source": [
    "dot_data = tree.export_graphviz(clf, out_file=None) \n",
    "graph = graphviz.Source(dot_data) \n",
    "graph.render(\"iris\")"
   ]
  },
  {
   "cell_type": "code",
   "execution_count": 36,
   "metadata": {},
   "outputs": [
    {
     "data": {
      "image/svg+xml": [
       "<?xml version=\"1.0\" encoding=\"UTF-8\" standalone=\"no\"?>\n",
       "<!DOCTYPE svg PUBLIC \"-//W3C//DTD SVG 1.1//EN\"\n",
       " \"http://www.w3.org/Graphics/SVG/1.1/DTD/svg11.dtd\">\n",
       "<!-- Generated by graphviz version 2.40.1 (20161225.0304)\n",
       " -->\n",
       "<!-- Title: Tree Pages: 1 -->\n",
       "<svg width=\"773pt\" height=\"561pt\"\n",
       " viewBox=\"0.00 0.00 773.00 561.00\" xmlns=\"http://www.w3.org/2000/svg\" xmlns:xlink=\"http://www.w3.org/1999/xlink\">\n",
       "<g id=\"graph0\" class=\"graph\" transform=\"scale(1 1) rotate(0) translate(4 557)\">\n",
       "<title>Tree</title>\n",
       "<polygon fill=\"#ffffff\" stroke=\"transparent\" points=\"-4,4 -4,-557 769,-557 769,4 -4,4\"/>\n",
       "<!-- 0 -->\n",
       "<g id=\"node1\" class=\"node\">\n",
       "<title>0</title>\n",
       "<path fill=\"#ffffff\" stroke=\"#000000\" d=\"M461.5,-553C461.5,-553 353.5,-553 353.5,-553 347.5,-553 341.5,-547 341.5,-541 341.5,-541 341.5,-501 341.5,-501 341.5,-495 347.5,-489 353.5,-489 353.5,-489 461.5,-489 461.5,-489 467.5,-489 473.5,-495 473.5,-501 473.5,-501 473.5,-541 473.5,-541 473.5,-547 467.5,-553 461.5,-553\"/>\n",
       "<text text-anchor=\"start\" x=\"377.5\" y=\"-538.8\" font-family=\"Helvetica,sans-Serif\" font-size=\"14.00\" fill=\"#000000\">X</text>\n",
       "<text text-anchor=\"start\" x=\"387.5\" y=\"-538.8\" font-family=\"Helvetica,sans-Serif\" baseline-shift=\"sub\" font-size=\"14.00\" fill=\"#000000\">2</text>\n",
       "<text text-anchor=\"start\" x=\"394.5\" y=\"-538.8\" font-family=\"Helvetica,sans-Serif\" font-size=\"14.00\" fill=\"#000000\"> ≤ 2.45</text>\n",
       "<text text-anchor=\"start\" x=\"372\" y=\"-524.8\" font-family=\"Helvetica,sans-Serif\" font-size=\"14.00\" fill=\"#000000\">gini = 0.667</text>\n",
       "<text text-anchor=\"start\" x=\"362.5\" y=\"-510.8\" font-family=\"Helvetica,sans-Serif\" font-size=\"14.00\" fill=\"#000000\">samples = 150</text>\n",
       "<text text-anchor=\"start\" x=\"349.5\" y=\"-496.8\" font-family=\"Helvetica,sans-Serif\" font-size=\"14.00\" fill=\"#000000\">value = [50, 50, 50]</text>\n",
       "</g>\n",
       "<!-- 1 -->\n",
       "<g id=\"node2\" class=\"node\">\n",
       "<title>1</title>\n",
       "<path fill=\"#e58139\" stroke=\"#000000\" d=\"M385,-447.5C385,-447.5 292,-447.5 292,-447.5 286,-447.5 280,-441.5 280,-435.5 280,-435.5 280,-406.5 280,-406.5 280,-400.5 286,-394.5 292,-394.5 292,-394.5 385,-394.5 385,-394.5 391,-394.5 397,-400.5 397,-406.5 397,-406.5 397,-435.5 397,-435.5 397,-441.5 391,-447.5 385,-447.5\"/>\n",
       "<text text-anchor=\"start\" x=\"310.5\" y=\"-432.3\" font-family=\"Helvetica,sans-Serif\" font-size=\"14.00\" fill=\"#000000\">gini = 0.0</text>\n",
       "<text text-anchor=\"start\" x=\"297.5\" y=\"-417.3\" font-family=\"Helvetica,sans-Serif\" font-size=\"14.00\" fill=\"#000000\">samples = 50</text>\n",
       "<text text-anchor=\"start\" x=\"288\" y=\"-402.3\" font-family=\"Helvetica,sans-Serif\" font-size=\"14.00\" fill=\"#000000\">value = [50, 0, 0]</text>\n",
       "</g>\n",
       "<!-- 0&#45;&gt;1 -->\n",
       "<g id=\"edge1\" class=\"edge\">\n",
       "<title>0&#45;&gt;1</title>\n",
       "<path fill=\"none\" stroke=\"#000000\" d=\"M385.2882,-488.8089C378.0762,-478.3568 370.0401,-466.7103 362.6912,-456.0597\"/>\n",
       "<polygon fill=\"#000000\" stroke=\"#000000\" points=\"365.5338,-454.0166 356.9737,-447.7735 359.7722,-457.9921 365.5338,-454.0166\"/>\n",
       "<text text-anchor=\"middle\" x=\"352.4632\" y=\"-468.6633\" font-family=\"Helvetica,sans-Serif\" font-size=\"14.00\" fill=\"#000000\">True</text>\n",
       "</g>\n",
       "<!-- 2 -->\n",
       "<g id=\"node3\" class=\"node\">\n",
       "<title>2</title>\n",
       "<path fill=\"#ffffff\" stroke=\"#000000\" d=\"M528,-453C528,-453 427,-453 427,-453 421,-453 415,-447 415,-441 415,-441 415,-401 415,-401 415,-395 421,-389 427,-389 427,-389 528,-389 528,-389 534,-389 540,-395 540,-401 540,-401 540,-441 540,-441 540,-447 534,-453 528,-453\"/>\n",
       "<text text-anchor=\"start\" x=\"447.5\" y=\"-438.8\" font-family=\"Helvetica,sans-Serif\" font-size=\"14.00\" fill=\"#000000\">X</text>\n",
       "<text text-anchor=\"start\" x=\"457.5\" y=\"-438.8\" font-family=\"Helvetica,sans-Serif\" baseline-shift=\"sub\" font-size=\"14.00\" fill=\"#000000\">3</text>\n",
       "<text text-anchor=\"start\" x=\"464.5\" y=\"-438.8\" font-family=\"Helvetica,sans-Serif\" font-size=\"14.00\" fill=\"#000000\"> ≤ 1.75</text>\n",
       "<text text-anchor=\"start\" x=\"449.5\" y=\"-424.8\" font-family=\"Helvetica,sans-Serif\" font-size=\"14.00\" fill=\"#000000\">gini = 0.5</text>\n",
       "<text text-anchor=\"start\" x=\"432.5\" y=\"-410.8\" font-family=\"Helvetica,sans-Serif\" font-size=\"14.00\" fill=\"#000000\">samples = 100</text>\n",
       "<text text-anchor=\"start\" x=\"423\" y=\"-396.8\" font-family=\"Helvetica,sans-Serif\" font-size=\"14.00\" fill=\"#000000\">value = [0, 50, 50]</text>\n",
       "</g>\n",
       "<!-- 0&#45;&gt;2 -->\n",
       "<g id=\"edge2\" class=\"edge\">\n",
       "<title>0&#45;&gt;2</title>\n",
       "<path fill=\"none\" stroke=\"#000000\" d=\"M430.0338,-488.8089C436.1537,-480.0661 442.8587,-470.4876 449.2513,-461.3553\"/>\n",
       "<polygon fill=\"#000000\" stroke=\"#000000\" points=\"452.1411,-463.3302 455.0085,-453.1308 446.4065,-459.316 452.1411,-463.3302\"/>\n",
       "<text text-anchor=\"middle\" x=\"459.3531\" y=\"-474.0503\" font-family=\"Helvetica,sans-Serif\" font-size=\"14.00\" fill=\"#000000\">False</text>\n",
       "</g>\n",
       "<!-- 3 -->\n",
       "<g id=\"node4\" class=\"node\">\n",
       "<title>3</title>\n",
       "<path fill=\"#4de88e\" stroke=\"#000000\" d=\"M427,-353C427,-353 334,-353 334,-353 328,-353 322,-347 322,-341 322,-341 322,-301 322,-301 322,-295 328,-289 334,-289 334,-289 427,-289 427,-289 433,-289 439,-295 439,-301 439,-301 439,-341 439,-341 439,-347 433,-353 427,-353\"/>\n",
       "<text text-anchor=\"start\" x=\"350.5\" y=\"-338.8\" font-family=\"Helvetica,sans-Serif\" font-size=\"14.00\" fill=\"#000000\">X</text>\n",
       "<text text-anchor=\"start\" x=\"360.5\" y=\"-338.8\" font-family=\"Helvetica,sans-Serif\" baseline-shift=\"sub\" font-size=\"14.00\" fill=\"#000000\">2</text>\n",
       "<text text-anchor=\"start\" x=\"367.5\" y=\"-338.8\" font-family=\"Helvetica,sans-Serif\" font-size=\"14.00\" fill=\"#000000\"> ≤ 4.95</text>\n",
       "<text text-anchor=\"start\" x=\"345\" y=\"-324.8\" font-family=\"Helvetica,sans-Serif\" font-size=\"14.00\" fill=\"#000000\">gini = 0.168</text>\n",
       "<text text-anchor=\"start\" x=\"339.5\" y=\"-310.8\" font-family=\"Helvetica,sans-Serif\" font-size=\"14.00\" fill=\"#000000\">samples = 54</text>\n",
       "<text text-anchor=\"start\" x=\"330\" y=\"-296.8\" font-family=\"Helvetica,sans-Serif\" font-size=\"14.00\" fill=\"#000000\">value = [0, 49, 5]</text>\n",
       "</g>\n",
       "<!-- 2&#45;&gt;3 -->\n",
       "<g id=\"edge3\" class=\"edge\">\n",
       "<title>2&#45;&gt;3</title>\n",
       "<path fill=\"none\" stroke=\"#000000\" d=\"M446.2747,-388.8089C437.5345,-379.7985 427.9334,-369.9004 418.8324,-360.518\"/>\n",
       "<polygon fill=\"#000000\" stroke=\"#000000\" points=\"421.1417,-357.8718 411.6668,-353.1308 416.1172,-362.7456 421.1417,-357.8718\"/>\n",
       "</g>\n",
       "<!-- 12 -->\n",
       "<g id=\"node13\" class=\"node\">\n",
       "<title>12</title>\n",
       "<path fill=\"#843de6\" stroke=\"#000000\" d=\"M621,-353C621,-353 528,-353 528,-353 522,-353 516,-347 516,-341 516,-341 516,-301 516,-301 516,-295 522,-289 528,-289 528,-289 621,-289 621,-289 627,-289 633,-295 633,-301 633,-301 633,-341 633,-341 633,-347 627,-353 621,-353\"/>\n",
       "<text text-anchor=\"start\" x=\"544.5\" y=\"-338.8\" font-family=\"Helvetica,sans-Serif\" font-size=\"14.00\" fill=\"#000000\">X</text>\n",
       "<text text-anchor=\"start\" x=\"554.5\" y=\"-338.8\" font-family=\"Helvetica,sans-Serif\" baseline-shift=\"sub\" font-size=\"14.00\" fill=\"#000000\">2</text>\n",
       "<text text-anchor=\"start\" x=\"561.5\" y=\"-338.8\" font-family=\"Helvetica,sans-Serif\" font-size=\"14.00\" fill=\"#000000\"> ≤ 4.85</text>\n",
       "<text text-anchor=\"start\" x=\"539\" y=\"-324.8\" font-family=\"Helvetica,sans-Serif\" font-size=\"14.00\" fill=\"#000000\">gini = 0.043</text>\n",
       "<text text-anchor=\"start\" x=\"533.5\" y=\"-310.8\" font-family=\"Helvetica,sans-Serif\" font-size=\"14.00\" fill=\"#000000\">samples = 46</text>\n",
       "<text text-anchor=\"start\" x=\"524\" y=\"-296.8\" font-family=\"Helvetica,sans-Serif\" font-size=\"14.00\" fill=\"#000000\">value = [0, 1, 45]</text>\n",
       "</g>\n",
       "<!-- 2&#45;&gt;12 -->\n",
       "<g id=\"edge12\" class=\"edge\">\n",
       "<title>2&#45;&gt;12</title>\n",
       "<path fill=\"none\" stroke=\"#000000\" d=\"M508.7253,-388.8089C517.4655,-379.7985 527.0666,-369.9004 536.1676,-360.518\"/>\n",
       "<polygon fill=\"#000000\" stroke=\"#000000\" points=\"538.8828,-362.7456 543.3332,-353.1308 533.8583,-357.8718 538.8828,-362.7456\"/>\n",
       "</g>\n",
       "<!-- 4 -->\n",
       "<g id=\"node5\" class=\"node\">\n",
       "<title>4</title>\n",
       "<path fill=\"#3de684\" stroke=\"#000000\" d=\"M237,-253C237,-253 144,-253 144,-253 138,-253 132,-247 132,-241 132,-241 132,-201 132,-201 132,-195 138,-189 144,-189 144,-189 237,-189 237,-189 243,-189 249,-195 249,-201 249,-201 249,-241 249,-241 249,-247 243,-253 237,-253\"/>\n",
       "<text text-anchor=\"start\" x=\"160.5\" y=\"-238.8\" font-family=\"Helvetica,sans-Serif\" font-size=\"14.00\" fill=\"#000000\">X</text>\n",
       "<text text-anchor=\"start\" x=\"170.5\" y=\"-238.8\" font-family=\"Helvetica,sans-Serif\" baseline-shift=\"sub\" font-size=\"14.00\" fill=\"#000000\">3</text>\n",
       "<text text-anchor=\"start\" x=\"177.5\" y=\"-238.8\" font-family=\"Helvetica,sans-Serif\" font-size=\"14.00\" fill=\"#000000\"> ≤ 1.65</text>\n",
       "<text text-anchor=\"start\" x=\"155\" y=\"-224.8\" font-family=\"Helvetica,sans-Serif\" font-size=\"14.00\" fill=\"#000000\">gini = 0.041</text>\n",
       "<text text-anchor=\"start\" x=\"149.5\" y=\"-210.8\" font-family=\"Helvetica,sans-Serif\" font-size=\"14.00\" fill=\"#000000\">samples = 48</text>\n",
       "<text text-anchor=\"start\" x=\"140\" y=\"-196.8\" font-family=\"Helvetica,sans-Serif\" font-size=\"14.00\" fill=\"#000000\">value = [0, 47, 1]</text>\n",
       "</g>\n",
       "<!-- 3&#45;&gt;4 -->\n",
       "<g id=\"edge4\" class=\"edge\">\n",
       "<title>3&#45;&gt;4</title>\n",
       "<path fill=\"none\" stroke=\"#000000\" d=\"M321.9434,-290.1807C301.8075,-279.5829 279.0969,-267.63 258.2886,-256.6782\"/>\n",
       "<polygon fill=\"#000000\" stroke=\"#000000\" points=\"259.6696,-253.4499 249.1903,-251.8896 256.4094,-259.6444 259.6696,-253.4499\"/>\n",
       "</g>\n",
       "<!-- 7 -->\n",
       "<g id=\"node8\" class=\"node\">\n",
       "<title>7</title>\n",
       "<path fill=\"#c09cf2\" stroke=\"#000000\" d=\"M423.5,-253C423.5,-253 337.5,-253 337.5,-253 331.5,-253 325.5,-247 325.5,-241 325.5,-241 325.5,-201 325.5,-201 325.5,-195 331.5,-189 337.5,-189 337.5,-189 423.5,-189 423.5,-189 429.5,-189 435.5,-195 435.5,-201 435.5,-201 435.5,-241 435.5,-241 435.5,-247 429.5,-253 423.5,-253\"/>\n",
       "<text text-anchor=\"start\" x=\"350.5\" y=\"-238.8\" font-family=\"Helvetica,sans-Serif\" font-size=\"14.00\" fill=\"#000000\">X</text>\n",
       "<text text-anchor=\"start\" x=\"360.5\" y=\"-238.8\" font-family=\"Helvetica,sans-Serif\" baseline-shift=\"sub\" font-size=\"14.00\" fill=\"#000000\">3</text>\n",
       "<text text-anchor=\"start\" x=\"367.5\" y=\"-238.8\" font-family=\"Helvetica,sans-Serif\" font-size=\"14.00\" fill=\"#000000\"> ≤ 1.55</text>\n",
       "<text text-anchor=\"start\" x=\"345\" y=\"-224.8\" font-family=\"Helvetica,sans-Serif\" font-size=\"14.00\" fill=\"#000000\">gini = 0.444</text>\n",
       "<text text-anchor=\"start\" x=\"343\" y=\"-210.8\" font-family=\"Helvetica,sans-Serif\" font-size=\"14.00\" fill=\"#000000\">samples = 6</text>\n",
       "<text text-anchor=\"start\" x=\"333.5\" y=\"-196.8\" font-family=\"Helvetica,sans-Serif\" font-size=\"14.00\" fill=\"#000000\">value = [0, 2, 4]</text>\n",
       "</g>\n",
       "<!-- 3&#45;&gt;7 -->\n",
       "<g id=\"edge7\" class=\"edge\">\n",
       "<title>3&#45;&gt;7</title>\n",
       "<path fill=\"none\" stroke=\"#000000\" d=\"M380.5,-288.8089C380.5,-280.6906 380.5,-271.8517 380.5,-263.3186\"/>\n",
       "<polygon fill=\"#000000\" stroke=\"#000000\" points=\"384.0001,-263.1307 380.5,-253.1308 377.0001,-263.1308 384.0001,-263.1307\"/>\n",
       "</g>\n",
       "<!-- 5 -->\n",
       "<g id=\"node6\" class=\"node\">\n",
       "<title>5</title>\n",
       "<path fill=\"#39e581\" stroke=\"#000000\" d=\"M105,-147.5C105,-147.5 12,-147.5 12,-147.5 6,-147.5 0,-141.5 0,-135.5 0,-135.5 0,-106.5 0,-106.5 0,-100.5 6,-94.5 12,-94.5 12,-94.5 105,-94.5 105,-94.5 111,-94.5 117,-100.5 117,-106.5 117,-106.5 117,-135.5 117,-135.5 117,-141.5 111,-147.5 105,-147.5\"/>\n",
       "<text text-anchor=\"start\" x=\"30.5\" y=\"-132.3\" font-family=\"Helvetica,sans-Serif\" font-size=\"14.00\" fill=\"#000000\">gini = 0.0</text>\n",
       "<text text-anchor=\"start\" x=\"17.5\" y=\"-117.3\" font-family=\"Helvetica,sans-Serif\" font-size=\"14.00\" fill=\"#000000\">samples = 47</text>\n",
       "<text text-anchor=\"start\" x=\"8\" y=\"-102.3\" font-family=\"Helvetica,sans-Serif\" font-size=\"14.00\" fill=\"#000000\">value = [0, 47, 0]</text>\n",
       "</g>\n",
       "<!-- 4&#45;&gt;5 -->\n",
       "<g id=\"edge5\" class=\"edge\">\n",
       "<title>4&#45;&gt;5</title>\n",
       "<path fill=\"none\" stroke=\"#000000\" d=\"M148.0078,-188.8089C133.2547,-177.6324 116.6991,-165.0902 101.8756,-153.8603\"/>\n",
       "<polygon fill=\"#000000\" stroke=\"#000000\" points=\"103.9255,-151.0223 93.841,-147.7735 99.6985,-156.602 103.9255,-151.0223\"/>\n",
       "</g>\n",
       "<!-- 6 -->\n",
       "<g id=\"node7\" class=\"node\">\n",
       "<title>6</title>\n",
       "<path fill=\"#8139e5\" stroke=\"#000000\" d=\"M233.5,-147.5C233.5,-147.5 147.5,-147.5 147.5,-147.5 141.5,-147.5 135.5,-141.5 135.5,-135.5 135.5,-135.5 135.5,-106.5 135.5,-106.5 135.5,-100.5 141.5,-94.5 147.5,-94.5 147.5,-94.5 233.5,-94.5 233.5,-94.5 239.5,-94.5 245.5,-100.5 245.5,-106.5 245.5,-106.5 245.5,-135.5 245.5,-135.5 245.5,-141.5 239.5,-147.5 233.5,-147.5\"/>\n",
       "<text text-anchor=\"start\" x=\"162.5\" y=\"-132.3\" font-family=\"Helvetica,sans-Serif\" font-size=\"14.00\" fill=\"#000000\">gini = 0.0</text>\n",
       "<text text-anchor=\"start\" x=\"153\" y=\"-117.3\" font-family=\"Helvetica,sans-Serif\" font-size=\"14.00\" fill=\"#000000\">samples = 1</text>\n",
       "<text text-anchor=\"start\" x=\"143.5\" y=\"-102.3\" font-family=\"Helvetica,sans-Serif\" font-size=\"14.00\" fill=\"#000000\">value = [0, 0, 1]</text>\n",
       "</g>\n",
       "<!-- 4&#45;&gt;6 -->\n",
       "<g id=\"edge6\" class=\"edge\">\n",
       "<title>4&#45;&gt;6</title>\n",
       "<path fill=\"none\" stroke=\"#000000\" d=\"M190.5,-188.8089C190.5,-178.9777 190.5,-168.0898 190.5,-157.9679\"/>\n",
       "<polygon fill=\"#000000\" stroke=\"#000000\" points=\"194.0001,-157.7735 190.5,-147.7735 187.0001,-157.7736 194.0001,-157.7735\"/>\n",
       "</g>\n",
       "<!-- 8 -->\n",
       "<g id=\"node9\" class=\"node\">\n",
       "<title>8</title>\n",
       "<path fill=\"#8139e5\" stroke=\"#000000\" d=\"M361.5,-147.5C361.5,-147.5 275.5,-147.5 275.5,-147.5 269.5,-147.5 263.5,-141.5 263.5,-135.5 263.5,-135.5 263.5,-106.5 263.5,-106.5 263.5,-100.5 269.5,-94.5 275.5,-94.5 275.5,-94.5 361.5,-94.5 361.5,-94.5 367.5,-94.5 373.5,-100.5 373.5,-106.5 373.5,-106.5 373.5,-135.5 373.5,-135.5 373.5,-141.5 367.5,-147.5 361.5,-147.5\"/>\n",
       "<text text-anchor=\"start\" x=\"290.5\" y=\"-132.3\" font-family=\"Helvetica,sans-Serif\" font-size=\"14.00\" fill=\"#000000\">gini = 0.0</text>\n",
       "<text text-anchor=\"start\" x=\"281\" y=\"-117.3\" font-family=\"Helvetica,sans-Serif\" font-size=\"14.00\" fill=\"#000000\">samples = 3</text>\n",
       "<text text-anchor=\"start\" x=\"271.5\" y=\"-102.3\" font-family=\"Helvetica,sans-Serif\" font-size=\"14.00\" fill=\"#000000\">value = [0, 0, 3]</text>\n",
       "</g>\n",
       "<!-- 7&#45;&gt;8 -->\n",
       "<g id=\"edge8\" class=\"edge\">\n",
       "<title>7&#45;&gt;8</title>\n",
       "<path fill=\"none\" stroke=\"#000000\" d=\"M360.5415,-188.8089C354.1254,-178.4603 346.9833,-166.9408 340.4333,-156.3764\"/>\n",
       "<polygon fill=\"#000000\" stroke=\"#000000\" points=\"343.3437,-154.4283 335.0996,-147.7735 337.3944,-158.1169 343.3437,-154.4283\"/>\n",
       "</g>\n",
       "<!-- 9 -->\n",
       "<g id=\"node10\" class=\"node\">\n",
       "<title>9</title>\n",
       "<path fill=\"#9cf2c0\" stroke=\"#000000\" d=\"M489.5,-153C489.5,-153 403.5,-153 403.5,-153 397.5,-153 391.5,-147 391.5,-141 391.5,-141 391.5,-101 391.5,-101 391.5,-95 397.5,-89 403.5,-89 403.5,-89 489.5,-89 489.5,-89 495.5,-89 501.5,-95 501.5,-101 501.5,-101 501.5,-141 501.5,-141 501.5,-147 495.5,-153 489.5,-153\"/>\n",
       "<text text-anchor=\"start\" x=\"416.5\" y=\"-138.8\" font-family=\"Helvetica,sans-Serif\" font-size=\"14.00\" fill=\"#000000\">X</text>\n",
       "<text text-anchor=\"start\" x=\"426.5\" y=\"-138.8\" font-family=\"Helvetica,sans-Serif\" baseline-shift=\"sub\" font-size=\"14.00\" fill=\"#000000\">0</text>\n",
       "<text text-anchor=\"start\" x=\"433.5\" y=\"-138.8\" font-family=\"Helvetica,sans-Serif\" font-size=\"14.00\" fill=\"#000000\"> ≤ 6.95</text>\n",
       "<text text-anchor=\"start\" x=\"411\" y=\"-124.8\" font-family=\"Helvetica,sans-Serif\" font-size=\"14.00\" fill=\"#000000\">gini = 0.444</text>\n",
       "<text text-anchor=\"start\" x=\"409\" y=\"-110.8\" font-family=\"Helvetica,sans-Serif\" font-size=\"14.00\" fill=\"#000000\">samples = 3</text>\n",
       "<text text-anchor=\"start\" x=\"399.5\" y=\"-96.8\" font-family=\"Helvetica,sans-Serif\" font-size=\"14.00\" fill=\"#000000\">value = [0, 2, 1]</text>\n",
       "</g>\n",
       "<!-- 7&#45;&gt;9 -->\n",
       "<g id=\"edge9\" class=\"edge\">\n",
       "<title>7&#45;&gt;9</title>\n",
       "<path fill=\"none\" stroke=\"#000000\" d=\"M401.7461,-188.8089C407.4575,-180.1553 413.7092,-170.683 419.6809,-161.635\"/>\n",
       "<polygon fill=\"#000000\" stroke=\"#000000\" points=\"422.7064,-163.4048 425.2937,-153.1308 416.8641,-159.5489 422.7064,-163.4048\"/>\n",
       "</g>\n",
       "<!-- 10 -->\n",
       "<g id=\"node11\" class=\"node\">\n",
       "<title>10</title>\n",
       "<path fill=\"#39e581\" stroke=\"#000000\" d=\"M425.5,-53C425.5,-53 339.5,-53 339.5,-53 333.5,-53 327.5,-47 327.5,-41 327.5,-41 327.5,-12 327.5,-12 327.5,-6 333.5,0 339.5,0 339.5,0 425.5,0 425.5,0 431.5,0 437.5,-6 437.5,-12 437.5,-12 437.5,-41 437.5,-41 437.5,-47 431.5,-53 425.5,-53\"/>\n",
       "<text text-anchor=\"start\" x=\"354.5\" y=\"-37.8\" font-family=\"Helvetica,sans-Serif\" font-size=\"14.00\" fill=\"#000000\">gini = 0.0</text>\n",
       "<text text-anchor=\"start\" x=\"345\" y=\"-22.8\" font-family=\"Helvetica,sans-Serif\" font-size=\"14.00\" fill=\"#000000\">samples = 2</text>\n",
       "<text text-anchor=\"start\" x=\"335.5\" y=\"-7.8\" font-family=\"Helvetica,sans-Serif\" font-size=\"14.00\" fill=\"#000000\">value = [0, 2, 0]</text>\n",
       "</g>\n",
       "<!-- 9&#45;&gt;10 -->\n",
       "<g id=\"edge10\" class=\"edge\">\n",
       "<title>9&#45;&gt;10</title>\n",
       "<path fill=\"none\" stroke=\"#000000\" d=\"M424.6538,-88.7428C418.7265,-79.9906 412.2805,-70.4728 406.2535,-61.5735\"/>\n",
       "<polygon fill=\"#000000\" stroke=\"#000000\" points=\"409.1394,-59.5931 400.6339,-53.2759 403.3435,-63.5184 409.1394,-59.5931\"/>\n",
       "</g>\n",
       "<!-- 11 -->\n",
       "<g id=\"node12\" class=\"node\">\n",
       "<title>11</title>\n",
       "<path fill=\"#8139e5\" stroke=\"#000000\" d=\"M553.5,-53C553.5,-53 467.5,-53 467.5,-53 461.5,-53 455.5,-47 455.5,-41 455.5,-41 455.5,-12 455.5,-12 455.5,-6 461.5,0 467.5,0 467.5,0 553.5,0 553.5,0 559.5,0 565.5,-6 565.5,-12 565.5,-12 565.5,-41 565.5,-41 565.5,-47 559.5,-53 553.5,-53\"/>\n",
       "<text text-anchor=\"start\" x=\"482.5\" y=\"-37.8\" font-family=\"Helvetica,sans-Serif\" font-size=\"14.00\" fill=\"#000000\">gini = 0.0</text>\n",
       "<text text-anchor=\"start\" x=\"473\" y=\"-22.8\" font-family=\"Helvetica,sans-Serif\" font-size=\"14.00\" fill=\"#000000\">samples = 1</text>\n",
       "<text text-anchor=\"start\" x=\"463.5\" y=\"-7.8\" font-family=\"Helvetica,sans-Serif\" font-size=\"14.00\" fill=\"#000000\">value = [0, 0, 1]</text>\n",
       "</g>\n",
       "<!-- 9&#45;&gt;11 -->\n",
       "<g id=\"edge11\" class=\"edge\">\n",
       "<title>9&#45;&gt;11</title>\n",
       "<path fill=\"none\" stroke=\"#000000\" d=\"M468.3462,-88.7428C474.2735,-79.9906 480.7195,-70.4728 486.7465,-61.5735\"/>\n",
       "<polygon fill=\"#000000\" stroke=\"#000000\" points=\"489.6565,-63.5184 492.3661,-53.2759 483.8606,-59.5931 489.6565,-63.5184\"/>\n",
       "</g>\n",
       "<!-- 13 -->\n",
       "<g id=\"node14\" class=\"node\">\n",
       "<title>13</title>\n",
       "<path fill=\"#c09cf2\" stroke=\"#000000\" d=\"M617.5,-253C617.5,-253 531.5,-253 531.5,-253 525.5,-253 519.5,-247 519.5,-241 519.5,-241 519.5,-201 519.5,-201 519.5,-195 525.5,-189 531.5,-189 531.5,-189 617.5,-189 617.5,-189 623.5,-189 629.5,-195 629.5,-201 629.5,-201 629.5,-241 629.5,-241 629.5,-247 623.5,-253 617.5,-253\"/>\n",
       "<text text-anchor=\"start\" x=\"548.5\" y=\"-238.8\" font-family=\"Helvetica,sans-Serif\" font-size=\"14.00\" fill=\"#000000\">X</text>\n",
       "<text text-anchor=\"start\" x=\"558.5\" y=\"-238.8\" font-family=\"Helvetica,sans-Serif\" baseline-shift=\"sub\" font-size=\"14.00\" fill=\"#000000\">1</text>\n",
       "<text text-anchor=\"start\" x=\"565.5\" y=\"-238.8\" font-family=\"Helvetica,sans-Serif\" font-size=\"14.00\" fill=\"#000000\"> ≤ 3.1</text>\n",
       "<text text-anchor=\"start\" x=\"539\" y=\"-224.8\" font-family=\"Helvetica,sans-Serif\" font-size=\"14.00\" fill=\"#000000\">gini = 0.444</text>\n",
       "<text text-anchor=\"start\" x=\"537\" y=\"-210.8\" font-family=\"Helvetica,sans-Serif\" font-size=\"14.00\" fill=\"#000000\">samples = 3</text>\n",
       "<text text-anchor=\"start\" x=\"527.5\" y=\"-196.8\" font-family=\"Helvetica,sans-Serif\" font-size=\"14.00\" fill=\"#000000\">value = [0, 1, 2]</text>\n",
       "</g>\n",
       "<!-- 12&#45;&gt;13 -->\n",
       "<g id=\"edge13\" class=\"edge\">\n",
       "<title>12&#45;&gt;13</title>\n",
       "<path fill=\"none\" stroke=\"#000000\" d=\"M574.5,-288.8089C574.5,-280.6906 574.5,-271.8517 574.5,-263.3186\"/>\n",
       "<polygon fill=\"#000000\" stroke=\"#000000\" points=\"578.0001,-263.1307 574.5,-253.1308 571.0001,-263.1308 578.0001,-263.1307\"/>\n",
       "</g>\n",
       "<!-- 16 -->\n",
       "<g id=\"node17\" class=\"node\">\n",
       "<title>16</title>\n",
       "<path fill=\"#8139e5\" stroke=\"#000000\" d=\"M753,-247.5C753,-247.5 660,-247.5 660,-247.5 654,-247.5 648,-241.5 648,-235.5 648,-235.5 648,-206.5 648,-206.5 648,-200.5 654,-194.5 660,-194.5 660,-194.5 753,-194.5 753,-194.5 759,-194.5 765,-200.5 765,-206.5 765,-206.5 765,-235.5 765,-235.5 765,-241.5 759,-247.5 753,-247.5\"/>\n",
       "<text text-anchor=\"start\" x=\"678.5\" y=\"-232.3\" font-family=\"Helvetica,sans-Serif\" font-size=\"14.00\" fill=\"#000000\">gini = 0.0</text>\n",
       "<text text-anchor=\"start\" x=\"665.5\" y=\"-217.3\" font-family=\"Helvetica,sans-Serif\" font-size=\"14.00\" fill=\"#000000\">samples = 43</text>\n",
       "<text text-anchor=\"start\" x=\"656\" y=\"-202.3\" font-family=\"Helvetica,sans-Serif\" font-size=\"14.00\" fill=\"#000000\">value = [0, 0, 43]</text>\n",
       "</g>\n",
       "<!-- 12&#45;&gt;16 -->\n",
       "<g id=\"edge16\" class=\"edge\">\n",
       "<title>12&#45;&gt;16</title>\n",
       "<path fill=\"none\" stroke=\"#000000\" d=\"M616.9922,-288.8089C631.7453,-277.6324 648.3009,-265.0902 663.1244,-253.8603\"/>\n",
       "<polygon fill=\"#000000\" stroke=\"#000000\" points=\"665.3015,-256.602 671.159,-247.7735 661.0745,-251.0223 665.3015,-256.602\"/>\n",
       "</g>\n",
       "<!-- 14 -->\n",
       "<g id=\"node15\" class=\"node\">\n",
       "<title>14</title>\n",
       "<path fill=\"#8139e5\" stroke=\"#000000\" d=\"M617.5,-147.5C617.5,-147.5 531.5,-147.5 531.5,-147.5 525.5,-147.5 519.5,-141.5 519.5,-135.5 519.5,-135.5 519.5,-106.5 519.5,-106.5 519.5,-100.5 525.5,-94.5 531.5,-94.5 531.5,-94.5 617.5,-94.5 617.5,-94.5 623.5,-94.5 629.5,-100.5 629.5,-106.5 629.5,-106.5 629.5,-135.5 629.5,-135.5 629.5,-141.5 623.5,-147.5 617.5,-147.5\"/>\n",
       "<text text-anchor=\"start\" x=\"546.5\" y=\"-132.3\" font-family=\"Helvetica,sans-Serif\" font-size=\"14.00\" fill=\"#000000\">gini = 0.0</text>\n",
       "<text text-anchor=\"start\" x=\"537\" y=\"-117.3\" font-family=\"Helvetica,sans-Serif\" font-size=\"14.00\" fill=\"#000000\">samples = 2</text>\n",
       "<text text-anchor=\"start\" x=\"527.5\" y=\"-102.3\" font-family=\"Helvetica,sans-Serif\" font-size=\"14.00\" fill=\"#000000\">value = [0, 0, 2]</text>\n",
       "</g>\n",
       "<!-- 13&#45;&gt;14 -->\n",
       "<g id=\"edge14\" class=\"edge\">\n",
       "<title>13&#45;&gt;14</title>\n",
       "<path fill=\"none\" stroke=\"#000000\" d=\"M574.5,-188.8089C574.5,-178.9777 574.5,-168.0898 574.5,-157.9679\"/>\n",
       "<polygon fill=\"#000000\" stroke=\"#000000\" points=\"578.0001,-157.7735 574.5,-147.7735 571.0001,-157.7736 578.0001,-157.7735\"/>\n",
       "</g>\n",
       "<!-- 15 -->\n",
       "<g id=\"node16\" class=\"node\">\n",
       "<title>15</title>\n",
       "<path fill=\"#39e581\" stroke=\"#000000\" d=\"M745.5,-147.5C745.5,-147.5 659.5,-147.5 659.5,-147.5 653.5,-147.5 647.5,-141.5 647.5,-135.5 647.5,-135.5 647.5,-106.5 647.5,-106.5 647.5,-100.5 653.5,-94.5 659.5,-94.5 659.5,-94.5 745.5,-94.5 745.5,-94.5 751.5,-94.5 757.5,-100.5 757.5,-106.5 757.5,-106.5 757.5,-135.5 757.5,-135.5 757.5,-141.5 751.5,-147.5 745.5,-147.5\"/>\n",
       "<text text-anchor=\"start\" x=\"674.5\" y=\"-132.3\" font-family=\"Helvetica,sans-Serif\" font-size=\"14.00\" fill=\"#000000\">gini = 0.0</text>\n",
       "<text text-anchor=\"start\" x=\"665\" y=\"-117.3\" font-family=\"Helvetica,sans-Serif\" font-size=\"14.00\" fill=\"#000000\">samples = 1</text>\n",
       "<text text-anchor=\"start\" x=\"655.5\" y=\"-102.3\" font-family=\"Helvetica,sans-Serif\" font-size=\"14.00\" fill=\"#000000\">value = [0, 1, 0]</text>\n",
       "</g>\n",
       "<!-- 13&#45;&gt;15 -->\n",
       "<g id=\"edge15\" class=\"edge\">\n",
       "<title>13&#45;&gt;15</title>\n",
       "<path fill=\"none\" stroke=\"#000000\" d=\"M615.7046,-188.8089C629.8781,-177.7359 645.7674,-165.3223 660.0391,-154.1726\"/>\n",
       "<polygon fill=\"#000000\" stroke=\"#000000\" points=\"662.5044,-156.6881 668.2299,-147.7735 658.1949,-151.1719 662.5044,-156.6881\"/>\n",
       "</g>\n",
       "</g>\n",
       "</svg>\n"
      ],
      "text/plain": [
       "<graphviz.files.Source at 0x7f658c83df60>"
      ]
     },
     "execution_count": 36,
     "metadata": {},
     "output_type": "execute_result"
    }
   ],
   "source": [
    "dot_data = tree.export_graphviz(clf, out_file=None, \n",
    "                      #feature_names=iris.feature_names,  \n",
    "                      #class_names=iris.target_names,  \n",
    "                      filled=True, rounded=True,  \n",
    "                      special_characters=True)  \n",
    "graph = graphviz.Source(dot_data)  \n",
    "graph "
   ]
  },
  {
   "cell_type": "markdown",
   "metadata": {},
   "source": [
    "# Decision Trees for Regression"
   ]
  },
  {
   "cell_type": "code",
   "execution_count": 40,
   "metadata": {},
   "outputs": [
    {
     "data": {
      "text/plain": [
       "array([0.5])"
      ]
     },
     "execution_count": 40,
     "metadata": {},
     "output_type": "execute_result"
    }
   ],
   "source": [
    "X = [[0, 0], [2, 2]]\n",
    "y = [0.5, 2.5]\n",
    "clf = tree.DecisionTreeRegressor()\n",
    "clf = clf.fit(X, y)\n",
    "clf.predict([[1, 1]])"
   ]
  },
  {
   "cell_type": "code",
   "execution_count": null,
   "metadata": {},
   "outputs": [],
   "source": []
  }
 ],
 "metadata": {
  "kernelspec": {
   "display_name": "Python 3",
   "language": "python",
   "name": "python3"
  },
  "language_info": {
   "codemirror_mode": {
    "name": "ipython",
    "version": 3
   },
   "file_extension": ".py",
   "mimetype": "text/x-python",
   "name": "python",
   "nbconvert_exporter": "python",
   "pygments_lexer": "ipython3",
   "version": "3.7.3"
  }
 },
 "nbformat": 4,
 "nbformat_minor": 4
}
